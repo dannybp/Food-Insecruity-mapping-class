{
 "cells": [
  {
   "cell_type": "code",
   "execution_count": null,
   "id": "b1330ce0",
   "metadata": {},
   "outputs": [],
   "source": [
    "x = 2+2"
   ]
  },
  {
   "cell_type": "code",
   "execution_count": null,
   "id": "58b3599a",
   "metadata": {},
   "outputs": [],
   "source": [
    "x = 2"
   ]
  },
  {
   "cell_type": "code",
   "execution_count": null,
   "id": "76488f2b",
   "metadata": {},
   "outputs": [],
   "source": [
    "pip install ipykernel --upgrade"
   ]
  },
  {
   "cell_type": "code",
   "execution_count": null,
   "id": "f8f6e9d2",
   "metadata": {},
   "outputs": [],
   "source": [
    "x = 2"
   ]
  },
  {
   "cell_type": "code",
   "execution_count": null,
   "id": "6b109530",
   "metadata": {},
   "outputs": [],
   "source": [
    "x = 2"
   ]
  },
  {
   "cell_type": "code",
   "execution_count": null,
   "id": "2aa388fe",
   "metadata": {},
   "outputs": [],
   "source": [
    "x = 2"
   ]
  },
  {
   "cell_type": "code",
   "execution_count": null,
   "id": "f1fea443",
   "metadata": {},
   "outputs": [],
   "source": [
    "cat"
   ]
  },
  {
   "cell_type": "code",
   "execution_count": null,
   "id": "fac93553",
   "metadata": {},
   "outputs": [],
   "source": []
  }
 ],
 "metadata": {
  "kernelspec": {
   "display_name": "Python 3 (ipykernel)",
   "language": "python",
   "name": "python3"
  },
  "language_info": {
   "codemirror_mode": {
    "name": "ipython",
    "version": 3
   },
   "file_extension": ".py",
   "mimetype": "text/x-python",
   "name": "python",
   "nbconvert_exporter": "python",
   "pygments_lexer": "ipython3",
   "version": "3.10.5"
  }
 },
 "nbformat": 4,
 "nbformat_minor": 5
}
